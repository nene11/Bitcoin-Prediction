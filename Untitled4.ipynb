{
  "nbformat": 4,
  "nbformat_minor": 0,
  "metadata": {
    "colab": {
      "provenance": []
    },
    "kernelspec": {
      "name": "python3",
      "display_name": "Python 3"
    },
    "language_info": {
      "name": "python"
    }
  },
  "cells": [
    {
      "cell_type": "code",
      "execution_count": 17,
      "metadata": {
        "id": "w4-WXfNRk1p3"
      },
      "outputs": [],
      "source": [
        "import yfinance as yf\n",
        "from sklearn.model_selection import train_test_split\n",
        "from sklearn.linear_model import LinearRegression\n",
        "from sklearn import metrics\n",
        "import numpy as np\n",
        "import datetime\n",
        "from sklearn.metrics import  r2_score,mean_absolute_error,mean_squared_error\n",
        "from lightgbm import LGBMRegressor\n",
        "import xgboost as xgb\n",
        "from sklearn.ensemble import RandomForestRegressor\n",
        "from sklearn.tree import DecisionTreeRegressor\n",
        "today = datetime.date.today()\n",
        "\n"
      ]
    },
    {
      "cell_type": "markdown",
      "source": [
        "# Download historical data"
      ],
      "metadata": {
        "id": "QltNGYeHosWk"
      }
    },
    {
      "cell_type": "code",
      "source": [
        "\n",
        "print(\"Downloading historical Bitcoin data for training...\")\n",
        "bitcoin = yf.download('BTC-USD', start='2010-07-17', end=today)\n",
        "print('*'*20)\n",
        "print(\" Downloaded.\")\n"
      ],
      "metadata": {
        "colab": {
          "base_uri": "https://localhost:8080/"
        },
        "id": "tB9dqE6dl2_h",
        "outputId": "fab2ba0d-9b9c-490d-a743-c9adb09c3e68"
      },
      "execution_count": 18,
      "outputs": [
        {
          "output_type": "stream",
          "name": "stderr",
          "text": [
            "\r[*********************100%%**********************]  1 of 1 completed"
          ]
        },
        {
          "output_type": "stream",
          "name": "stdout",
          "text": [
            "Downloading historical Bitcoin data for training...\n",
            "********************\n",
            " Downloaded.\n"
          ]
        },
        {
          "output_type": "stream",
          "name": "stderr",
          "text": [
            "\n"
          ]
        }
      ]
    },
    {
      "cell_type": "markdown",
      "source": [
        "# Prepare data for model"
      ],
      "metadata": {
        "id": "-uoCgKAhoyKU"
      }
    },
    {
      "cell_type": "code",
      "source": [
        "\n",
        "bitcoin['Prediction'] = bitcoin['Close'].shift(-1)\n",
        "bitcoin.dropna(inplace=True)\n",
        "X = np.array(bitcoin.drop(['Prediction'], axis=1))\n",
        "Y = np.array(bitcoin['Prediction'])"
      ],
      "metadata": {
        "id": "MZezk-rjmCGD"
      },
      "execution_count": 19,
      "outputs": []
    },
    {
      "cell_type": "markdown",
      "source": [
        "# Split data into training set and test set"
      ],
      "metadata": {
        "id": "UG_3pB0Qo1Bw"
      }
    },
    {
      "cell_type": "code",
      "source": [
        "\n",
        "x_train, x_test, y_train, y_test = train_test_split(X, Y, test_size=0.2, random_state=42)"
      ],
      "metadata": {
        "id": "aZCtFVtpmLV3"
      },
      "execution_count": 20,
      "outputs": []
    },
    {
      "cell_type": "markdown",
      "source": [
        "# Evaluation function"
      ],
      "metadata": {
        "id": "o2R-TyqNpwtC"
      }
    },
    {
      "cell_type": "code",
      "source": [
        "def evaluate(true, predicted):\n",
        "    mae = mean_absolute_error(true, predicted)\n",
        "    mse = mean_squared_error(true, predicted)\n",
        "    rmse = np.sqrt(mean_squared_error(true, predicted))\n",
        "    r2_square = r2_score(true, predicted)\n",
        "    return mae, rmse, r2_square"
      ],
      "metadata": {
        "id": "tRsEAgMZm8hA"
      },
      "execution_count": 21,
      "outputs": []
    },
    {
      "cell_type": "markdown",
      "source": [
        "# Train the models\n",
        "\n",
        "\n"
      ],
      "metadata": {
        "id": "5kSTwqTUo4V4"
      }
    },
    {
      "cell_type": "code",
      "source": [
        "models={\n",
        "    'LinearRegression':LinearRegression(),\n",
        "    'RandomForestRegressor':RandomForestRegressor(n_estimators = 100, random_state = 42),\n",
        "    'DecisionTreeRegressor' :DecisionTreeRegressor(random_state = 42),\n",
        "    'XGboost':xgb.XGBRegressor(),\n",
        "\n",
        "}\n",
        "trained_model_list=[]\n",
        "model_list=[]\n",
        "r2_list=[]\n",
        "\n",
        "print(' Training Performance  Measurment')\n",
        "print('---------'*30)\n",
        "print('\\n')\n",
        "\n",
        "for i in range(len(list(models))):\n",
        "    model=list(models.values())[i]\n",
        "    model.fit(x_train,y_train)\n",
        "\n",
        "    #Make Predictions\n",
        "    y_pred=model.predict(x_test)\n",
        "\n",
        "    mae, rmse, r2_square=evaluate(y_test,y_pred)\n",
        "\n",
        "    print(list(models.keys())[i])\n",
        "    model_list.append(list(models.keys())[i])\n",
        "\n",
        "    print('Model Training Performance')\n",
        "    print(\"RMSE:\",rmse)\n",
        "    print(\"MAE:\",mae)\n",
        "    print(\"R2 score\",r2_square*100)\n",
        "\n",
        "    r2_list.append(r2_square)\n",
        "\n",
        "\n",
        "\n",
        "    print('---------'*40)\n",
        "    print('\\n')"
      ],
      "metadata": {
        "colab": {
          "base_uri": "https://localhost:8080/"
        },
        "id": "H57cwchDnkLt",
        "outputId": "6809e01c-f688-4bd8-b0cc-4540444cb8a9"
      },
      "execution_count": 22,
      "outputs": [
        {
          "output_type": "stream",
          "name": "stdout",
          "text": [
            " Training Performance  Measurment\n",
            "------------------------------------------------------------------------------------------------------------------------------------------------------------------------------------------------------------------------------------------------------------------------------\n",
            "\n",
            "\n",
            "LinearRegression\n",
            "Model Training Performance\n",
            "RMSE: 832.1686699328577\n",
            "MAE: 375.68874258630336\n",
            "R2 score 99.77872026646122\n",
            "------------------------------------------------------------------------------------------------------------------------------------------------------------------------------------------------------------------------------------------------------------------------------------------------------------------------------------------------------------------------\n",
            "\n",
            "\n",
            "RandomForestRegressor\n",
            "Model Training Performance\n",
            "RMSE: 933.7769754461104\n",
            "MAE: 421.45307833793146\n",
            "R2 score 99.72138452165089\n",
            "------------------------------------------------------------------------------------------------------------------------------------------------------------------------------------------------------------------------------------------------------------------------------------------------------------------------------------------------------------------------\n",
            "\n",
            "\n",
            "DecisionTreeRegressor\n",
            "Model Training Performance\n",
            "RMSE: 1169.0480795967007\n",
            "MAE: 584.9932459109904\n",
            "R2 score 99.56329952616824\n",
            "------------------------------------------------------------------------------------------------------------------------------------------------------------------------------------------------------------------------------------------------------------------------------------------------------------------------------------------------------------------------\n",
            "\n",
            "\n",
            "XGboost\n",
            "Model Training Performance\n",
            "RMSE: 965.496712247378\n",
            "MAE: 447.9082460268361\n",
            "R2 score 99.70213428627034\n",
            "------------------------------------------------------------------------------------------------------------------------------------------------------------------------------------------------------------------------------------------------------------------------------------------------------------------------------------------------------------------------\n",
            "\n",
            "\n"
          ]
        }
      ]
    },
    {
      "cell_type": "markdown",
      "source": [
        "# Make predictions"
      ],
      "metadata": {
        "id": "U3TqoJ8HoZer"
      }
    },
    {
      "cell_type": "code",
      "source": [
        "\n",
        "\n",
        "bitcoin['Prediction'] = model.predict(np.array(bitcoin.drop(['Prediction'], axis=1)))\n",
        "print(\"Predicted price for tomorrow: \", bitcoin['Prediction'].iloc[-1])\n",
        "print(\"Predicted price for 7 days: \", bitcoin['Prediction'].iloc[-7])\n",
        "print(\"Predicted price for 30 days: \", bitcoin['Prediction'].iloc[-30])"
      ],
      "metadata": {
        "colab": {
          "base_uri": "https://localhost:8080/"
        },
        "id": "ZV1m8ToSma0O",
        "outputId": "efa355d1-1ca6-4dc1-9061-82761daf2a99"
      },
      "execution_count": 23,
      "outputs": [
        {
          "output_type": "stream",
          "name": "stdout",
          "text": [
            "Predicted price for tomorrow:  65259.168\n",
            "Predicted price for 7 days:  62031.57\n",
            "Predicted price for 30 days:  61630.117\n"
          ]
        }
      ]
    }
  ]
}